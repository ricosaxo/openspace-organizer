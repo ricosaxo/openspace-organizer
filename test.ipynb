{
 "cells": [
  {
   "cell_type": "code",
   "execution_count": 20,
   "metadata": {},
   "outputs": [
    {
     "name": "stdout",
     "output_type": "stream",
     "text": [
      "26\n",
      "['Adheeba', 'Anastasiia', 'Basma', 'Dhrisya', 'Ihor', 'Izabela', 'Kelli', 'Kevin', 'Levin', 'Maarten', 'Majid', 'Minh', 'Moustafa', 'Muntadher', 'Nicolaas', 'Petra', 'Rasmita', 'Rik', 'Soha', 'Tom', 'Urson', 'Veena', 'Wouter', 'Yeliz', 'Yusra', 'Zelimkhan']\n"
     ]
    }
   ],
   "source": [
    "import csv\n",
    "\n",
    "\n",
    "with open('new_colleagues.csv', newline='') as csvfile:\n",
    "    spamreader = csv.reader(csvfile, delimiter=' ', quotechar='|')\n",
    "    data=[]\n",
    "    for row in spamreader:\n",
    "       data.append(row)\n",
    "    data = [student for sublist in data for student in sublist]\n",
    "    data.remove('Duc')\n",
    "    print(len(data))\n",
    "    print(data)"
   ]
  },
  {
   "cell_type": "code",
   "execution_count": null,
   "metadata": {},
   "outputs": [],
   "source": []
  },
  {
   "cell_type": "code",
   "execution_count": 21,
   "metadata": {},
   "outputs": [
    {
     "name": "stdout",
     "output_type": "stream",
     "text": [
      "[[], [], [], [], [], []]\n"
     ]
    }
   ],
   "source": [
    "My_tables = [[] for i in range(6)]\n",
    "print(My_tables) "
   ]
  },
  {
   "cell_type": "code",
   "execution_count": 22,
   "metadata": {},
   "outputs": [
    {
     "ename": "TypeError",
     "evalue": "object of type 'NoneType' has no len()",
     "output_type": "error",
     "traceback": [
      "\u001b[1;31m---------------------------------------------------------------------------\u001b[0m",
      "\u001b[1;31mTypeError\u001b[0m                                 Traceback (most recent call last)",
      "Cell \u001b[1;32mIn[22], line 9\u001b[0m\n\u001b[0;32m      5\u001b[0m \u001b[38;5;28;01mwhile\u001b[39;00m \u001b[38;5;28mlen\u001b[39m(room_tables) \u001b[38;5;241m<\u001b[39m \u001b[38;5;241m7\u001b[39m:\n\u001b[0;32m      7\u001b[0m     table \u001b[38;5;241m=\u001b[39m room_tables\u001b[38;5;241m.\u001b[39mappend([])\n\u001b[1;32m----> 9\u001b[0m     \u001b[38;5;28;01mwhile\u001b[39;00m \u001b[38;5;28mlen\u001b[39m(table) \u001b[38;5;241m<\u001b[39m \u001b[38;5;241m5\u001b[39m:\n\u001b[0;32m     11\u001b[0m         \u001b[38;5;28;01mfor\u001b[39;00m student \u001b[38;5;129;01min\u001b[39;00m data:\n\u001b[0;32m     13\u001b[0m             table\u001b[38;5;241m.\u001b[39mappend(student)\n",
      "\u001b[1;31mTypeError\u001b[0m: object of type 'NoneType' has no len()"
     ]
    }
   ],
   "source": [
    "\n",
    "\n",
    "\n",
    "room_tables = []\n",
    "\n",
    "\n",
    "\n",
    "while len(room_tables) < 7:\n",
    "\n",
    "    table = []\n",
    "\n",
    "    while len(table) < 5:\n",
    "\n",
    "        for student in data:\n",
    "\n",
    "            table.append(student)\n",
    "    \n",
    "    room_tables.append(table) \n",
    "\n",
    "print(room_tables)   \n",
    "\n",
    "\n",
    "        \n",
    "        "
   ]
  },
  {
   "cell_type": "code",
   "execution_count": null,
   "metadata": {},
   "outputs": [],
   "source": [
    "while len(self.seats) <= self.capacity:\n",
    "            for name in data:\n",
    "                seat = Seat()\n",
    "                seat.set_occupant(name)\n",
    "                self.seats.append(seat)"
   ]
  },
  {
   "cell_type": "code",
   "execution_count": 8,
   "metadata": {},
   "outputs": [],
   "source": [
    "import csv\n",
    "\n",
    "def open_database (my_file):\n",
    "\n",
    "    names = []\n",
    "    with open('my_file', mode='r', newline='') as file:\n",
    "        csv_reader = csv.reader(file)\n",
    "        for row in csv_reader:\n",
    "            names.append(row)\n",
    "    names = [student for sublist in names for student in sublist] \n",
    "\n",
    "    return names"
   ]
  }
 ],
 "metadata": {
  "kernelspec": {
   "display_name": "base",
   "language": "python",
   "name": "python3"
  },
  "language_info": {
   "codemirror_mode": {
    "name": "ipython",
    "version": 3
   },
   "file_extension": ".py",
   "mimetype": "text/x-python",
   "name": "python",
   "nbconvert_exporter": "python",
   "pygments_lexer": "ipython3",
   "version": "3.12.4"
  }
 },
 "nbformat": 4,
 "nbformat_minor": 2
}
